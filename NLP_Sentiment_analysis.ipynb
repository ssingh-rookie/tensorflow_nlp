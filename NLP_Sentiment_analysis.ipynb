{
  "nbformat": 4,
  "nbformat_minor": 0,
  "metadata": {
    "colab": {
      "name": "NLP Sentiment analysis.ipynb",
      "provenance": [],
      "authorship_tag": "ABX9TyMBMroRg9rol564pUPsxgUR",
      "include_colab_link": true
    },
    "kernelspec": {
      "name": "python3",
      "display_name": "Python 3"
    }
  },
  "cells": [
    {
      "cell_type": "markdown",
      "metadata": {
        "id": "view-in-github",
        "colab_type": "text"
      },
      "source": [
        "<a href=\"https://colab.research.google.com/github/ssingh-rookie/tensorflow_nlp/blob/master/NLP_Sentiment_analysis.ipynb\" target=\"_parent\"><img src=\"https://colab.research.google.com/assets/colab-badge.svg\" alt=\"Open In Colab\"/></a>"
      ]
    },
    {
      "cell_type": "code",
      "metadata": {
        "id": "GBzR64QJq9ao",
        "colab_type": "code",
        "colab": {
          "base_uri": "https://localhost:8080/",
          "height": 204
        },
        "outputId": "853e39da-03ff-4d05-be34-39e8bb36fb72"
      },
      "source": [
        "import json\n",
        "import tensorflow as tf\n",
        "import numpy as np\n",
        "\n",
        "from tensorflow.keras.preprocessing.text import Tokenizer\n",
        "from tensorflow.keras.preprocessing.sequence import pad_sequences\n",
        "\n",
        "!wget --no-check-certificate \\\n",
        "    https://storage.googleapis.com/laurencemoroney-blog.appspot.com/sarcasm.json \\\n",
        "    -O /tmp/sarcasm.json"
      ],
      "execution_count": 43,
      "outputs": [
        {
          "output_type": "stream",
          "text": [
            "--2020-04-05 14:51:10--  https://storage.googleapis.com/laurencemoroney-blog.appspot.com/sarcasm.json\n",
            "Resolving storage.googleapis.com (storage.googleapis.com)... 172.217.204.128, 2607:f8b0:400c:c07::80\n",
            "Connecting to storage.googleapis.com (storage.googleapis.com)|172.217.204.128|:443... connected.\n",
            "HTTP request sent, awaiting response... 200 OK\n",
            "Length: 5643545 (5.4M) [application/json]\n",
            "Saving to: ‘/tmp/sarcasm.json’\n",
            "\n",
            "\r/tmp/sarcasm.json     0%[                    ]       0  --.-KB/s               \r/tmp/sarcasm.json   100%[===================>]   5.38M  --.-KB/s    in 0.07s   \n",
            "\n",
            "2020-04-05 14:51:10 (81.3 MB/s) - ‘/tmp/sarcasm.json’ saved [5643545/5643545]\n",
            "\n"
          ],
          "name": "stdout"
        }
      ]
    },
    {
      "cell_type": "code",
      "metadata": {
        "id": "4IB6EmTNrJNM",
        "colab_type": "code",
        "colab": {}
      },
      "source": [
        "with open('/tmp/sarcasm.json', 'r') as json_file:\n",
        "  data = json.load(json_file)"
      ],
      "execution_count": 0,
      "outputs": []
    },
    {
      "cell_type": "code",
      "metadata": {
        "id": "oRArYxTerynJ",
        "colab_type": "code",
        "colab": {
          "base_uri": "https://localhost:8080/",
          "height": 68
        },
        "outputId": "32ee8d1a-fedd-4c26-ae20-d6046b86c810"
      },
      "source": [
        "data[0]"
      ],
      "execution_count": 6,
      "outputs": [
        {
          "output_type": "execute_result",
          "data": {
            "text/plain": [
              "{'article_link': 'https://www.huffingtonpost.com/entry/versace-black-code_us_5861fbefe4b0de3a08f600d5',\n",
              " 'headline': \"former versace store clerk sues over secret 'black code' for minority shoppers\",\n",
              " 'is_sarcastic': 0}"
            ]
          },
          "metadata": {
            "tags": []
          },
          "execution_count": 6
        }
      ]
    },
    {
      "cell_type": "code",
      "metadata": {
        "id": "npD518Zzr5cj",
        "colab_type": "code",
        "colab": {}
      },
      "source": [
        "headlines = []\n",
        "labels = []\n",
        "for article in data:\n",
        "  h,l = article['headline'], article['is_sarcastic']\n",
        "  headlines.append(h)\n",
        "  labels.append(l)\n"
      ],
      "execution_count": 0,
      "outputs": []
    },
    {
      "cell_type": "code",
      "metadata": {
        "id": "ezN9e2CVyePK",
        "colab_type": "code",
        "colab": {
          "base_uri": "https://localhost:8080/",
          "height": 54
        },
        "outputId": "4486421f-95f8-434e-bbba-5d3d04b70eb7"
      },
      "source": [
        "print(headlines[:5])"
      ],
      "execution_count": 27,
      "outputs": [
        {
          "output_type": "stream",
          "text": [
            "[\"former versace store clerk sues over secret 'black code' for minority shoppers\", \"the 'roseanne' revival catches up to our thorny political mood, for better and worse\", \"mom starting to fear son's web series closest thing she will have to grandchild\", 'boehner just wants wife to listen, not come up with alternative debt-reduction ideas', 'j.k. rowling wishes snape happy birthday in the most magical way']\n"
          ],
          "name": "stdout"
        }
      ]
    },
    {
      "cell_type": "markdown",
      "metadata": {
        "id": "VQmFdLlqs6SS",
        "colab_type": "text"
      },
      "source": [
        "#### Define parameters"
      ]
    },
    {
      "cell_type": "code",
      "metadata": {
        "id": "2TIRC7eEsxRT",
        "colab_type": "code",
        "colab": {}
      },
      "source": [
        "vocab_size = 10000\n",
        "max_len = 40\n",
        "oov_token = \"<OOV>\"\n",
        "pad_type = \"post\"\n",
        "trunc_type = \"post\"\n",
        "validation_ratio = 0.8\n",
        "embedding_dim = 16"
      ],
      "execution_count": 0,
      "outputs": []
    },
    {
      "cell_type": "markdown",
      "metadata": {
        "id": "phmgR58Dtn1G",
        "colab_type": "text"
      },
      "source": [
        "#### Define train and test splits"
      ]
    },
    {
      "cell_type": "code",
      "metadata": {
        "id": "QJzUP4OKtuKU",
        "colab_type": "code",
        "colab": {
          "base_uri": "https://localhost:8080/",
          "height": 34
        },
        "outputId": "f8a9cbc1-84ec-4e9d-a6ca-afc5276b35f2"
      },
      "source": [
        "train_size = int(len(headlines) * validation_ratio)\n",
        "print(train_size)"
      ],
      "execution_count": 29,
      "outputs": [
        {
          "output_type": "stream",
          "text": [
            "21367\n"
          ],
          "name": "stdout"
        }
      ]
    },
    {
      "cell_type": "code",
      "metadata": {
        "id": "RpnwmXAfuJYS",
        "colab_type": "code",
        "colab": {
          "base_uri": "https://localhost:8080/",
          "height": 51
        },
        "outputId": "adb99a04-dfe1-4481-d6d0-508c4d85ede4"
      },
      "source": [
        "train_data = headlines[:train_size]\n",
        "train_labels = labels[:train_size]\n",
        "\n",
        "test_data = headlines[train_size:]\n",
        "test_labels = labels[train_size:]\n",
        "\n",
        "print(\"Train data size \", len(train_data))\n",
        "print(\"Test data size :\", len(test_data))"
      ],
      "execution_count": 30,
      "outputs": [
        {
          "output_type": "stream",
          "text": [
            "Train data size  21367\n",
            "Test data size : 5342\n"
          ],
          "name": "stdout"
        }
      ]
    },
    {
      "cell_type": "markdown",
      "metadata": {
        "id": "ZB9QY44ItRyW",
        "colab_type": "text"
      },
      "source": [
        "#### Tokenize the headlines"
      ]
    },
    {
      "cell_type": "code",
      "metadata": {
        "id": "4k6tIOzktRCQ",
        "colab_type": "code",
        "colab": {}
      },
      "source": [
        "token = Tokenizer(vocab_size, oov_token=oov_token)\n",
        "token.fit_on_texts(train_data)\n",
        "word_index = token.word_index\n",
        "\n",
        "train_seq = token.texts_to_sequences(train_data)\n",
        "train_pad = pad_sequences(train_seq, padding=pad_type, truncating=trunc_type, maxlen=max_len)\n",
        "\n",
        "test_seq = token.texts_to_sequences(test_data)\n",
        "test_pad = pad_sequences(test_seq, padding=pad_type, truncating=trunc_type, maxlen=max_len)\n",
        "\n",
        "train_labels_final = np.array(train_labels)\n",
        "test_labels_final = np.array(test_labels)"
      ],
      "execution_count": 0,
      "outputs": []
    },
    {
      "cell_type": "code",
      "metadata": {
        "id": "VZgzXIOqxEOt",
        "colab_type": "code",
        "colab": {
          "base_uri": "https://localhost:8080/",
          "height": 51
        },
        "outputId": "700885a1-5694-42a7-f7f7-cdbefead8c91"
      },
      "source": [
        "print(\"Train data \", train_pad.shape)\n",
        "print(\"Train data \", test_pad.shape)"
      ],
      "execution_count": 37,
      "outputs": [
        {
          "output_type": "stream",
          "text": [
            "Train data  (21367, 40)\n",
            "Train data  (5342, 40)\n"
          ],
          "name": "stdout"
        }
      ]
    },
    {
      "cell_type": "markdown",
      "metadata": {
        "id": "tS7r517exRKp",
        "colab_type": "text"
      },
      "source": [
        "#### Initialize model"
      ]
    },
    {
      "cell_type": "code",
      "metadata": {
        "id": "QAIFok9axPE_",
        "colab_type": "code",
        "colab": {}
      },
      "source": [
        "model = tf.keras.Sequential([\n",
        "                             tf.keras.layers.Embedding(vocab_size, embedding_dim, input_length=max_len),\n",
        "                             tf.keras.layers.Bidirectional(tf.keras.layers.LSTM(32)),\n",
        "                             tf.keras.layers.Dense(6, activation='relu'),\n",
        "                             tf.keras.layers.Dense(1, activation='sigmoid')\n",
        "])"
      ],
      "execution_count": 0,
      "outputs": []
    },
    {
      "cell_type": "code",
      "metadata": {
        "id": "eppgvxLfz218",
        "colab_type": "code",
        "colab": {
          "base_uri": "https://localhost:8080/",
          "height": 289
        },
        "outputId": "5753aae4-aa85-4b67-f400-9a514e811079"
      },
      "source": [
        "model.compile(optimizer='adam', loss='binary_crossentropy', metrics=['accuracy'])\n",
        "model.summary()"
      ],
      "execution_count": 59,
      "outputs": [
        {
          "output_type": "stream",
          "text": [
            "Model: \"sequential_3\"\n",
            "_________________________________________________________________\n",
            "Layer (type)                 Output Shape              Param #   \n",
            "=================================================================\n",
            "embedding_3 (Embedding)      (None, 40, 16)            160000    \n",
            "_________________________________________________________________\n",
            "bidirectional_5 (Bidirection (None, 64)                12544     \n",
            "_________________________________________________________________\n",
            "dense_6 (Dense)              (None, 6)                 390       \n",
            "_________________________________________________________________\n",
            "dense_7 (Dense)              (None, 1)                 7         \n",
            "=================================================================\n",
            "Total params: 172,941\n",
            "Trainable params: 172,941\n",
            "Non-trainable params: 0\n",
            "_________________________________________________________________\n"
          ],
          "name": "stdout"
        }
      ]
    },
    {
      "cell_type": "code",
      "metadata": {
        "id": "b0oixTiD0QC6",
        "colab_type": "code",
        "colab": {
          "base_uri": "https://localhost:8080/",
          "height": 357
        },
        "outputId": "1911a778-150c-4058-b7d5-370fa4427b00"
      },
      "source": [
        "NO_EPOCHS = 10\n",
        "history = model.fit(x=train_pad, y=train_labels_final, epochs=NO_EPOCHS, validation_data=(test_pad, test_labels_final))"
      ],
      "execution_count": 49,
      "outputs": [
        {
          "output_type": "stream",
          "text": [
            "Epoch 1/10\n",
            "668/668 [==============================] - 18s 27ms/step - loss: 0.0469 - accuracy: 0.9842 - val_loss: 0.5856 - val_accuracy: 0.8428\n",
            "Epoch 2/10\n",
            "668/668 [==============================] - 19s 28ms/step - loss: 0.0311 - accuracy: 0.9907 - val_loss: 0.7388 - val_accuracy: 0.8328\n",
            "Epoch 3/10\n",
            "668/668 [==============================] - 19s 28ms/step - loss: 0.0235 - accuracy: 0.9927 - val_loss: 0.7631 - val_accuracy: 0.8375\n",
            "Epoch 4/10\n",
            "668/668 [==============================] - 19s 28ms/step - loss: 0.0164 - accuracy: 0.9951 - val_loss: 0.8542 - val_accuracy: 0.8411\n",
            "Epoch 5/10\n",
            "668/668 [==============================] - 19s 28ms/step - loss: 0.0142 - accuracy: 0.9956 - val_loss: 0.9328 - val_accuracy: 0.8381\n",
            "Epoch 6/10\n",
            "668/668 [==============================] - 19s 28ms/step - loss: 0.0123 - accuracy: 0.9961 - val_loss: 0.8978 - val_accuracy: 0.8334\n",
            "Epoch 7/10\n",
            "668/668 [==============================] - 19s 28ms/step - loss: 0.0084 - accuracy: 0.9977 - val_loss: 1.0320 - val_accuracy: 0.8328\n",
            "Epoch 8/10\n",
            "668/668 [==============================] - 19s 28ms/step - loss: 0.0073 - accuracy: 0.9980 - val_loss: 1.1362 - val_accuracy: 0.8285\n",
            "Epoch 9/10\n",
            "668/668 [==============================] - 19s 28ms/step - loss: 0.0057 - accuracy: 0.9984 - val_loss: 1.1623 - val_accuracy: 0.8276\n",
            "Epoch 10/10\n",
            "668/668 [==============================] - 24s 35ms/step - loss: 0.0087 - accuracy: 0.9971 - val_loss: 1.0987 - val_accuracy: 0.8298\n"
          ],
          "name": "stdout"
        }
      ]
    },
    {
      "cell_type": "code",
      "metadata": {
        "id": "bSi0kVpj0lma",
        "colab_type": "code",
        "colab": {}
      },
      "source": [
        "import matplotlib.pyplot as plt\n",
        "\n",
        "def plot_model_results(history, string ):\n",
        "  train = history.history[string]\n",
        "  val = history.history['val_' + string]\n",
        "  plt.plot(train)\n",
        "  plt.plot(val)\n",
        "  plt.xlabel('Epochs')\n",
        "  plt.ylabel(string)\n",
        "  plt.legend([string, 'val_' + string])\n",
        "  plt.show()"
      ],
      "execution_count": 0,
      "outputs": []
    },
    {
      "cell_type": "code",
      "metadata": {
        "id": "RuuQYGHo2zW4",
        "colab_type": "code",
        "colab": {
          "base_uri": "https://localhost:8080/",
          "height": 280
        },
        "outputId": "d78a660b-02e5-4523-f46e-92ca9da8f3eb"
      },
      "source": [
        "plot_model_results(history, 'loss')"
      ],
      "execution_count": 52,
      "outputs": [
        {
          "output_type": "display_data",
          "data": {
            "image/png": "[encoded data removed]",
            "text/plain": [
              "<Figure size 432x288 with 1 Axes>"
            ]
          },
          "metadata": {
            "tags": []
          }
        }
      ]
    },
    {
      "cell_type": "code",
      "metadata": {
        "id": "RmzRjy7927Fi",
        "colab_type": "code",
        "colab": {
          "base_uri": "https://localhost:8080/",
          "height": 279
        },
        "outputId": "fe26cb77-e15a-488a-e43a-b301109860a1"
      },
      "source": [
        "plot_model_results(history, 'accuracy')"
      ],
      "execution_count": 53,
      "outputs": [
        {
          "output_type": "display_data",
          "data": {
            "image/png": "[encoded data removed]",
            "text/plain": [
              "<Figure size 432x288 with 1 Axes>"
            ]
          },
          "metadata": {
            "tags": []
          }
        }
      ]
    },
    {
      "cell_type": "code",
      "metadata": {
        "id": "Oivoe0oq3Dce",
        "colab_type": "code",
        "colab": {}
      },
      "source": [
        ""
      ],
      "execution_count": 0,
      "outputs": []
    },
    {
      "cell_type": "markdown",
      "metadata": {
        "id": "HUN0F_CA3VO2",
        "colab_type": "text"
      },
      "source": [
        "#### Increasing model complexity"
      ]
    },
    {
      "cell_type": "code",
      "metadata": {
        "id": "gr6obDiD3UVY",
        "colab_type": "code",
        "colab": {
          "base_uri": "https://localhost:8080/",
          "height": 323
        },
        "outputId": "2bbf06b7-c02c-4046-cceb-68cdda822a98"
      },
      "source": [
        "model_1 = tf.keras.Sequential([\n",
        "                             tf.keras.layers.Embedding(vocab_size, embedding_dim, input_length=max_len),\n",
        "                             tf.keras.layers.Bidirectional(tf.keras.layers.LSTM(32, return_sequences=True)),\n",
        "                             tf.keras.layers.Bidirectional(tf.keras.layers.LSTM(32)),\n",
        "                             tf.keras.layers.Dense(6, activation='relu'),\n",
        "                             tf.keras.layers.Dense(1, activation='sigmoid')\n",
        "])\n",
        "                             \n",
        "model_1.compile(optimizer='adam', loss='binary_crossentropy', metrics=['accuracy'])\n",
        "model_1.summary()"
      ],
      "execution_count": 61,
      "outputs": [
        {
          "output_type": "stream",
          "text": [
            "Model: \"sequential_5\"\n",
            "_________________________________________________________________\n",
            "Layer (type)                 Output Shape              Param #   \n",
            "=================================================================\n",
            "embedding_5 (Embedding)      (None, 40, 16)            160000    \n",
            "_________________________________________________________________\n",
            "bidirectional_8 (Bidirection (None, 40, 64)            12544     \n",
            "_________________________________________________________________\n",
            "bidirectional_9 (Bidirection (None, 64)                24832     \n",
            "_________________________________________________________________\n",
            "dense_10 (Dense)             (None, 6)                 390       \n",
            "_________________________________________________________________\n",
            "dense_11 (Dense)             (None, 1)                 7         \n",
            "=================================================================\n",
            "Total params: 197,773\n",
            "Trainable params: 197,773\n",
            "Non-trainable params: 0\n",
            "_________________________________________________________________\n"
          ],
          "name": "stdout"
        }
      ]
    },
    {
      "cell_type": "code",
      "metadata": {
        "id": "sxlstW6M37MU",
        "colab_type": "code",
        "colab": {
          "base_uri": "https://localhost:8080/",
          "height": 357
        },
        "outputId": "94d4ecaf-a9af-4f50-84a8-fec4234b0e3a"
      },
      "source": [
        "NO_EPOCHS = 10\n",
        "model_1_history = model_1.fit(x=train_pad, y=train_labels_final, epochs=NO_EPOCHS, validation_data=(test_pad, test_labels_final))"
      ],
      "execution_count": 63,
      "outputs": [
        {
          "output_type": "stream",
          "text": [
            "Epoch 1/10\n",
            "668/668 [==============================] - 39s 58ms/step - loss: 0.4076 - accuracy: 0.8069 - val_loss: 0.3381 - val_accuracy: 0.8525\n",
            "Epoch 2/10\n",
            "668/668 [==============================] - 38s 56ms/step - loss: 0.2226 - accuracy: 0.9116 - val_loss: 0.3511 - val_accuracy: 0.8581\n",
            "Epoch 3/10\n",
            "668/668 [==============================] - 38s 57ms/step - loss: 0.1465 - accuracy: 0.9449 - val_loss: 0.3948 - val_accuracy: 0.8469\n",
            "Epoch 4/10\n",
            "668/668 [==============================] - 37s 56ms/step - loss: 0.0975 - accuracy: 0.9647 - val_loss: 0.5092 - val_accuracy: 0.8420\n",
            "Epoch 5/10\n",
            "668/668 [==============================] - 38s 56ms/step - loss: 0.0619 - accuracy: 0.9789 - val_loss: 0.5788 - val_accuracy: 0.8375\n",
            "Epoch 6/10\n",
            "668/668 [==============================] - 38s 56ms/step - loss: 0.0397 - accuracy: 0.9872 - val_loss: 0.6577 - val_accuracy: 0.8371\n",
            "Epoch 7/10\n",
            "668/668 [==============================] - 37s 56ms/step - loss: 0.0291 - accuracy: 0.9905 - val_loss: 0.7586 - val_accuracy: 0.8319\n",
            "Epoch 8/10\n",
            "668/668 [==============================] - 38s 57ms/step - loss: 0.0202 - accuracy: 0.9941 - val_loss: 0.7786 - val_accuracy: 0.8345\n",
            "Epoch 9/10\n",
            "668/668 [==============================] - 38s 57ms/step - loss: 0.0174 - accuracy: 0.9944 - val_loss: 0.9384 - val_accuracy: 0.8283\n",
            "Epoch 10/10\n",
            "668/668 [==============================] - 38s 57ms/step - loss: 0.0172 - accuracy: 0.9941 - val_loss: 0.8487 - val_accuracy: 0.8345\n"
          ],
          "name": "stdout"
        }
      ]
    },
    {
      "cell_type": "code",
      "metadata": {
        "id": "20l0SOn24ky5",
        "colab_type": "code",
        "colab": {
          "base_uri": "https://localhost:8080/",
          "height": 279
        },
        "outputId": "258252a9-6958-4bc0-fbed-3ad5849897cf"
      },
      "source": [
        "plot_model_results(model_1_history, 'loss')"
      ],
      "execution_count": 64,
      "outputs": [
        {
          "output_type": "display_data",
          "data": {
            "image/png": "[encoded data removed]",
            "text/plain": [
              "<Figure size 432x288 with 1 Axes>"
            ]
          },
          "metadata": {
            "tags": []
          }
        }
      ]
    },
    {
      "cell_type": "code",
      "metadata": {
        "id": "pod6uUOf68RE",
        "colab_type": "code",
        "colab": {
          "base_uri": "https://localhost:8080/",
          "height": 279
        },
        "outputId": "afcd1be6-5ab9-4adb-8eca-05b3a9336b11"
      },
      "source": [
        "plot_model_results(model_1_history, 'accuracy')"
      ],
      "execution_count": 65,
      "outputs": [
        {
          "output_type": "display_data",
          "data": {
            "image/png": "[encoded data removed]",
            "text/plain": [
              "<Figure size 432x288 with 1 Axes>"
            ]
          },
          "metadata": {
            "tags": []
          }
        }
      ]
    },
    {
      "cell_type": "code",
      "metadata": {
        "id": "yePbI87h7F1I",
        "colab_type": "code",
        "colab": {
          "base_uri": "https://localhost:8080/",
          "height": 34
        },
        "outputId": "3b2a8055-e08f-452b-9d40-c3000580802f"
      },
      "source": [
        "!git remote add origin https://github.com/ssingh-rookie/tensorflow_nlp.git"
      ],
      "execution_count": 67,
      "outputs": [
        {
          "output_type": "stream",
          "text": [
            "fatal: remote origin already exists.\n"
          ],
          "name": "stdout"
        }
      ]
    },
    {
      "cell_type": "code",
      "metadata": {
        "id": "0zjibjZy8-Fj",
        "colab_type": "code",
        "colab": {}
      },
      "source": [
        ""
      ],
      "execution_count": 0,
      "outputs": []
    }
  ]
}
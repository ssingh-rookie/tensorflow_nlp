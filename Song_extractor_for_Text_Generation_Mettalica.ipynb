{
  "nbformat": 4,
  "nbformat_minor": 0,
  "metadata": {
    "colab": {
      "name": "Song extractor for Text Generation - Mettalica.ipynb",
      "provenance": [],
      "authorship_tag": "ABX9TyNFXWCnkkqBP7zMUkJBV0sd",
      "include_colab_link": true
    },
    "kernelspec": {
      "name": "python3",
      "display_name": "Python 3"
    }
  },
  "cells": [
    {
      "cell_type": "markdown",
      "metadata": {
        "id": "view-in-github",
        "colab_type": "text"
      },
      "source": [
        "<a href=\"https://colab.research.google.com/github/ssingh-rookie/tensorflow_nlp/blob/master/Song_extractor_for_Text_Generation_Mettalica.ipynb\" target=\"_parent\"><img src=\"https://colab.research.google.com/assets/colab-badge.svg\" alt=\"Open In Colab\"/></a>"
      ]
    },
    {
      "cell_type": "code",
      "metadata": {
        "id": "RSTw-FMdzo_y",
        "colab_type": "code",
        "colab": {}
      },
      "source": [
        "import requests\n",
        "from bs4 import BeautifulSoup\n",
        "import regex as re\n",
        "import time\n",
        "import numpy as np"
      ],
      "execution_count": 0,
      "outputs": []
    },
    {
      "cell_type": "code",
      "metadata": {
        "id": "_dC4jHfiz4pt",
        "colab_type": "code",
        "colab": {}
      },
      "source": [
        "url = 'https://www.metallica.com/songs/'"
      ],
      "execution_count": 0,
      "outputs": []
    },
    {
      "cell_type": "code",
      "metadata": {
        "id": "rhFrmffE0Rr5",
        "colab_type": "code",
        "colab": {}
      },
      "source": [
        "http_response = requests.get(url)\n",
        "soup = BeautifulSoup(http_response.text)"
      ],
      "execution_count": 0,
      "outputs": []
    },
    {
      "cell_type": "code",
      "metadata": {
        "id": "0WME8X0y0kmz",
        "colab_type": "code",
        "colab": {}
      },
      "source": [
        "prefix = 'https://www.metallica.com'\n",
        "song_urls = []\n",
        "for link in soup.find_all('a'):\n",
        "  song_link = link.get('href')\n",
        "  try:\n",
        "    song = re.search(r'/songs/\\w+[-]+\\w+[.]\\w+', song_link).group(0)\n",
        "    if song is not None:\n",
        "      song_urls.append(prefix + song)\n",
        "  except:\n",
        "    continue"
      ],
      "execution_count": 0,
      "outputs": []
    },
    {
      "cell_type": "code",
      "metadata": {
        "id": "7Yaw5rTl1-me",
        "colab_type": "code",
        "outputId": "a220ca7d-8f4f-4228-a08f-2016806fc750",
        "colab": {
          "base_uri": "https://localhost:8080/",
          "height": 34
        }
      },
      "source": [
        "song_urls[:3]\n",
        "print(len(song_urls))"
      ],
      "execution_count": 98,
      "outputs": [
        {
          "output_type": "stream",
          "text": [
            "203\n"
          ],
          "name": "stdout"
        }
      ]
    },
    {
      "cell_type": "code",
      "metadata": {
        "id": "egOAknHE8b-m",
        "colab_type": "code",
        "colab": {
          "base_uri": "https://localhost:8080/",
          "height": 289
        },
        "outputId": "281a64ca-fedd-45ff-8018-f7aedebd5e58"
      },
      "source": [
        "lyrics = {}\n",
        "i = 0\n",
        "for url in song_urls[39:]:\n",
        "  random_wait = np.random.randint(3, dtype='int32', high=6)\n",
        "  time.sleep(random_wait)\n",
        "  song_response = requests.get(url)\n",
        "  song_text = BeautifulSoup(song_response.text)\n",
        "  try:\n",
        "    lyrics[url] = song_text.find(\"div\", {\"class\": \"lyrics\"}).text\n",
        "  except:\n",
        "    continue\n",
        "  i = i+1\n",
        "  if i % 10 == 0:\n",
        "    print(\"Entering loop number :\", i)\n"
      ],
      "execution_count": 94,
      "outputs": [
        {
          "output_type": "stream",
          "text": [
            "Entering loop number : 10\n",
            "Entering loop number : 20\n",
            "Entering loop number : 30\n",
            "Entering loop number : 40\n",
            "Entering loop number : 50\n",
            "Entering loop number : 60\n",
            "Entering loop number : 70\n",
            "Entering loop number : 80\n",
            "Entering loop number : 90\n",
            "Entering loop number : 100\n",
            "Entering loop number : 110\n",
            "Entering loop number : 120\n",
            "Entering loop number : 130\n",
            "Entering loop number : 140\n",
            "Entering loop number : 150\n",
            "Entering loop number : 160\n"
          ],
          "name": "stdout"
        }
      ]
    },
    {
      "cell_type": "code",
      "metadata": {
        "id": "-oYAWAeUC39f",
        "colab_type": "code",
        "outputId": "8b304f84-0fff-4b6e-ba64-7fa04583a7d9",
        "colab": {
          "base_uri": "https://localhost:8080/",
          "height": 34
        }
      },
      "source": [
        "song_urls[38]"
      ],
      "execution_count": 93,
      "outputs": [
        {
          "output_type": "execute_result",
          "data": {
            "text/plain": [
              "'https://www.metallica.com/songs/song-34704.html'"
            ]
          },
          "metadata": {
            "tags": []
          },
          "execution_count": 93
        }
      ]
    },
    {
      "cell_type": "code",
      "metadata": {
        "colab_type": "code",
        "id": "4NS1A74KKavq",
        "colab": {
          "base_uri": "https://localhost:8080/",
          "height": 34
        },
        "outputId": "b16406e3-eec4-46cd-cfe2-abfb04234e05"
      },
      "source": [
        "from google.colab import drive\n",
        "import json\n",
        "\n",
        "drive.mount('/content/gdrive', force_remount=True)\n",
        "working_dir = \"/content/gdrive/My Drive/deeplearning\"\n",
        "\n",
        "with open(working_dir + \"mettalica.json\",'w') as json_file:\n",
        "  json.dump(lyrics, json_file)\n"
      ],
      "execution_count": 95,
      "outputs": [
        {
          "output_type": "stream",
          "text": [
            "Mounted at /content/gdrive\n"
          ],
          "name": "stdout"
        }
      ]
    },
    {
      "cell_type": "code",
      "metadata": {
        "id": "G0DXpb6eLcDP",
        "colab_type": "code",
        "colab": {
          "base_uri": "https://localhost:8080/",
          "height": 34
        },
        "outputId": "a5b99f5e-f59f-4d2e-bb38-3f3f86043e35"
      },
      "source": [
        "len(list(lyrics.keys()))"
      ],
      "execution_count": 97,
      "outputs": [
        {
          "output_type": "execute_result",
          "data": {
            "text/plain": [
              "199"
            ]
          },
          "metadata": {
            "tags": []
          },
          "execution_count": 97
        }
      ]
    },
    {
      "cell_type": "code",
      "metadata": {
        "id": "jaaWiVd2VVzO",
        "colab_type": "code",
        "colab": {}
      },
      "source": [
        "remove_keys = []\n",
        "for key, song in lyrics.items():\n",
        "  if len(song) < 50:\n",
        "    remove_keys.append(key)"
      ],
      "execution_count": 0,
      "outputs": []
    },
    {
      "cell_type": "code",
      "metadata": {
        "id": "xa2WCfIIYs3S",
        "colab_type": "code",
        "colab": {
          "base_uri": "https://localhost:8080/",
          "height": 119
        },
        "outputId": "292f52ee-bf34-4ac8-a1a1-24d9f49ba087"
      },
      "source": [
        "remove_keys"
      ],
      "execution_count": 102,
      "outputs": [
        {
          "output_type": "execute_result",
          "data": {
            "text/plain": [
              "['https://www.metallica.com/songs/song-34643.html',\n",
              " 'https://www.metallica.com/songs/song-34648.html',\n",
              " 'https://www.metallica.com/songs/song-34729.html',\n",
              " 'https://www.metallica.com/songs/song-34698.html',\n",
              " 'https://www.metallica.com/songs/song-25914.html',\n",
              " 'https://www.metallica.com/songs/song-25940.html']"
            ]
          },
          "metadata": {
            "tags": []
          },
          "execution_count": 102
        }
      ]
    },
    {
      "cell_type": "code",
      "metadata": {
        "id": "tPphuqeZXOnJ",
        "colab_type": "code",
        "colab": {}
      },
      "source": [
        "for key in remove_keys:\n",
        "  lyrics.pop(key)"
      ],
      "execution_count": 0,
      "outputs": []
    },
    {
      "cell_type": "code",
      "metadata": {
        "id": "VD64lnGyY1GJ",
        "colab_type": "code",
        "colab": {
          "base_uri": "https://localhost:8080/",
          "height": 34
        },
        "outputId": "90648107-0e22-464c-e69c-9ee90424d89c"
      },
      "source": [
        "len(list(lyrics.keys()))"
      ],
      "execution_count": 107,
      "outputs": [
        {
          "output_type": "execute_result",
          "data": {
            "text/plain": [
              "193"
            ]
          },
          "metadata": {
            "tags": []
          },
          "execution_count": 107
        }
      ]
    },
    {
      "cell_type": "code",
      "metadata": {
        "id": "Gx9Bwj0EZKnR",
        "colab_type": "code",
        "colab": {
          "base_uri": "https://localhost:8080/",
          "height": 34
        },
        "outputId": "5581f153-1006-4da3-a7be-f3278211369d"
      },
      "source": [
        "from google.colab import drive\n",
        "import json\n",
        "\n",
        "drive.mount('/content/gdrive', force_remount=True)\n",
        "working_dir = \"/content/gdrive/My Drive/deeplearning\"\n",
        "\n",
        "with open(working_dir + \"mettalica.json\",'w') as json_file:\n",
        "  json.dump(lyrics, json_file)\n"
      ],
      "execution_count": 109,
      "outputs": [
        {
          "output_type": "stream",
          "text": [
            "Mounted at /content/gdrive\n"
          ],
          "name": "stdout"
        }
      ]
    },
    {
      "cell_type": "code",
      "metadata": {
        "id": "_KSB42KJZ-Jz",
        "colab_type": "code",
        "colab": {}
      },
      "source": [
        ""
      ],
      "execution_count": 0,
      "outputs": []
    }
  ]
}
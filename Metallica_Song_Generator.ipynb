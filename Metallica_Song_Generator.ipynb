{
  "nbformat": 4,
  "nbformat_minor": 0,
  "metadata": {
    "colab": {
      "name": "Metallica - Song Generator.ipynb",
      "provenance": [],
      "authorship_tag": "ABX9TyPWFLt8rKEwH/JgrlcrwTvr",
      "include_colab_link": true
    },
    "kernelspec": {
      "name": "python3",
      "display_name": "Python 3"
    },
    "accelerator": "GPU"
  },
  "cells": [
    {
      "cell_type": "markdown",
      "metadata": {
        "id": "view-in-github",
        "colab_type": "text"
      },
      "source": [
        "<a href=\"https://colab.research.google.com/github/ssingh-rookie/tensorflow_nlp/blob/master/Metallica_Song_Generator.ipynb\" target=\"_parent\"><img src=\"https://colab.research.google.com/assets/colab-badge.svg\" alt=\"Open In Colab\"/></a>"
      ]
    },
    {
      "cell_type": "markdown",
      "metadata": {
        "id": "0gy2xkJ9s15c",
        "colab_type": "text"
      },
      "source": [
        "#### Mount colab drive"
      ]
    },
    {
      "cell_type": "code",
      "metadata": {
        "id": "AKoX_eJ9a5Qk",
        "colab_type": "code",
        "outputId": "de30a651-efa5-4ec6-9255-34da2207127b",
        "colab": {
          "base_uri": "https://localhost:8080/",
          "height": 34
        }
      },
      "source": [
        "from google.colab import drive\n",
        "import os\n",
        "drive.mount('/content/gdrive', force_remount=True)\n",
        "text_dir = '/content/gdrive/My Drive/deeplearning/'\n",
        "file_name = 'cleaned_file_v2.txt'\n",
        "check_point_dir = \"/content/gdrive/My Drive/deeplearning/Metallica/model_checkpoint\"\n"
      ],
      "execution_count": 73,
      "outputs": [
        {
          "output_type": "stream",
          "text": [
            "Mounted at /content/gdrive\n"
          ],
          "name": "stdout"
        }
      ]
    },
    {
      "cell_type": "markdown",
      "metadata": {
        "id": "XeuKXRg9nmKn",
        "colab_type": "text"
      },
      "source": [
        "#### Import modules"
      ]
    },
    {
      "cell_type": "code",
      "metadata": {
        "id": "DVKNRRvtkCIE",
        "colab_type": "code",
        "colab": {}
      },
      "source": [
        "import tensorflow as tf\n",
        "import numpy as np"
      ],
      "execution_count": 0,
      "outputs": []
    },
    {
      "cell_type": "markdown",
      "metadata": {
        "id": "lr_XmtxvnprY",
        "colab_type": "text"
      },
      "source": [
        "#### Open files and load text as int"
      ]
    },
    {
      "cell_type": "code",
      "metadata": {
        "id": "36RP6wqPb5D7",
        "colab_type": "code",
        "colab": {}
      },
      "source": [
        "file = open(text_dir + file_name, 'r').read()"
      ],
      "execution_count": 0,
      "outputs": []
    },
    {
      "cell_type": "code",
      "metadata": {
        "id": "-frs4aymc7Zo",
        "colab_type": "code",
        "colab": {}
      },
      "source": [
        "file = file.lower()"
      ],
      "execution_count": 0,
      "outputs": []
    },
    {
      "cell_type": "code",
      "metadata": {
        "id": "jk-x8p6fcTiF",
        "colab_type": "code",
        "colab": {
          "base_uri": "https://localhost:8080/",
          "height": 34
        },
        "outputId": "4189c244-78f7-4837-8a64-29801e5e915a"
      },
      "source": [
        "vocab = sorted(set(file))\n",
        "print(len(vocab))\n",
        "\n",
        "char_to_index =  { char: index for index, char in enumerate(vocab)}\n",
        "index_to_char = np.array(vocab)\n",
        "\n"
      ],
      "execution_count": 108,
      "outputs": [
        {
          "output_type": "stream",
          "text": [
            "54\n"
          ],
          "name": "stdout"
        }
      ]
    },
    {
      "cell_type": "code",
      "metadata": {
        "id": "5_Yt6u_GlBGC",
        "colab_type": "code",
        "colab": {
          "base_uri": "https://localhost:8080/",
          "height": 34
        },
        "outputId": "f2102255-3368-4112-f7b9-b99ab41a9c68"
      },
      "source": [
        "print(\"Length of this corpus is \", len(file))"
      ],
      "execution_count": 39,
      "outputs": [
        {
          "output_type": "stream",
          "text": [
            "Length of this corpus is  215036\n"
          ],
          "name": "stdout"
        }
      ]
    },
    {
      "cell_type": "code",
      "metadata": {
        "id": "dZTedAk6cXAO",
        "colab_type": "code",
        "outputId": "f83e0193-e621-4542-e374-5cbed46ee5ec",
        "colab": {
          "base_uri": "https://localhost:8080/",
          "height": 51
        }
      },
      "source": [
        "print(\"Index of char a is \", char_to_index['a'])\n",
        "print(\"Char at index 23 is \", index_to_char[23])\n"
      ],
      "execution_count": 29,
      "outputs": [
        {
          "output_type": "stream",
          "text": [
            "Index of char a is  23\n",
            "Char at index 23 is  a\n"
          ],
          "name": "stdout"
        }
      ]
    },
    {
      "cell_type": "code",
      "metadata": {
        "id": "FXnouuKrUTRz",
        "colab_type": "code",
        "colab": {}
      },
      "source": [
        "corpus_as_int = np.array([char_to_index[char] for char in file])"
      ],
      "execution_count": 0,
      "outputs": []
    },
    {
      "cell_type": "markdown",
      "metadata": {
        "id": "_VU71Hcynwk1",
        "colab_type": "text"
      },
      "source": [
        "#### Examine sample corpus conversion"
      ]
    },
    {
      "cell_type": "code",
      "metadata": {
        "id": "cpSWuURFj5Kv",
        "colab_type": "code",
        "colab": {
          "base_uri": "https://localhost:8080/",
          "height": 85
        },
        "outputId": "230eab93-bb72-4d94-ce06-ca693797a420"
      },
      "source": [
        "print(\"First 50 index of the corpus_as_int\",corpus_as_int[:50])\n",
        "print(repr(\"\".join([index_to_char[index] for index in corpus_as_int[:50]])))"
      ],
      "execution_count": 43,
      "outputs": [
        {
          "output_type": "stream",
          "text": [
            "First 50 index of the corpus_as_int [ 0 31  5 35  1 29 37 36 36 23  1 35 23 33 27  1 47 37 43  9  1 41 30 23\n",
            " 33 27  1 47 37 43  9  1 42 23 33 27  1 47 37 43  0 31  5 35  1 29 37 36\n",
            " 36 23]\n",
            "\"\\ni'm gonna make you, shake you, take you\\ni'm gonna\"\n"
          ],
          "name": "stdout"
        }
      ]
    },
    {
      "cell_type": "code",
      "metadata": {
        "id": "F-TFfbXzkj80",
        "colab_type": "code",
        "colab": {
          "base_uri": "https://localhost:8080/",
          "height": 34
        },
        "outputId": "83fa3b05-0332-4cd2-ac7f-b5dbc8155040"
      },
      "source": [
        "\"\".join([index_to_char[index] for index in corpus_as_int[:20]])"
      ],
      "execution_count": 41,
      "outputs": [
        {
          "output_type": "execute_result",
          "data": {
            "text/plain": [
              "\"\\ni'm gonna make you,\""
            ]
          },
          "metadata": {
            "tags": []
          },
          "execution_count": 41
        }
      ]
    },
    {
      "cell_type": "markdown",
      "metadata": {
        "id": "sUqCop-fmQZi",
        "colab_type": "text"
      },
      "source": [
        "#### Generate a dataset"
      ]
    },
    {
      "cell_type": "code",
      "metadata": {
        "id": "vX27HsNxmQGS",
        "colab_type": "code",
        "colab": {}
      },
      "source": [
        "song_dataset = tf.data.Dataset.from_tensor_slices(corpus_as_int)"
      ],
      "execution_count": 0,
      "outputs": []
    },
    {
      "cell_type": "code",
      "metadata": {
        "id": "LzUtArphlXIY",
        "colab_type": "code",
        "colab": {
          "base_uri": "https://localhost:8080/",
          "height": 204
        },
        "outputId": "a96332d3-145c-4ac0-9927-d0133847d556"
      },
      "source": [
        "for i in song_dataset.take(10):\n",
        "  print(index_to_char[i])\n"
      ],
      "execution_count": 50,
      "outputs": [
        {
          "output_type": "stream",
          "text": [
            "\n",
            "\n",
            "i\n",
            "'\n",
            "m\n",
            " \n",
            "g\n",
            "o\n",
            "n\n",
            "n\n",
            "a\n"
          ],
          "name": "stdout"
        }
      ]
    },
    {
      "cell_type": "markdown",
      "metadata": {
        "id": "pFLWhej9n8yt",
        "colab_type": "text"
      },
      "source": [
        "#### Build train, target dataset"
      ]
    },
    {
      "cell_type": "code",
      "metadata": {
        "id": "17-y5dcfn_P7",
        "colab_type": "code",
        "colab": {}
      },
      "source": [
        "SEQUENCE_LENGTH = 50\n"
      ],
      "execution_count": 0,
      "outputs": []
    },
    {
      "cell_type": "code",
      "metadata": {
        "id": "st-k5d-9qX-S",
        "colab_type": "code",
        "colab": {}
      },
      "source": [
        "sequences = song_dataset.batch(SEQUENCE_LENGTH+1, drop_remainder=True)"
      ],
      "execution_count": 0,
      "outputs": []
    },
    {
      "cell_type": "code",
      "metadata": {
        "id": "g1AHg88Nr5rQ",
        "colab_type": "code",
        "colab": {
          "base_uri": "https://localhost:8080/",
          "height": 102
        },
        "outputId": "82d8812c-1948-4aeb-cce1-c8fea8f2fdd3"
      },
      "source": [
        "for sequence in sequences.take(5):\n",
        "  print(repr(\"\".join([index_to_char[index] for index in sequence])))"
      ],
      "execution_count": 53,
      "outputs": [
        {
          "output_type": "stream",
          "text": [
            "\"\\ni'm gonna make you, shake you, take you\\ni'm gonna \"\n",
            "'be the one who breaks you\\nput the screws to you, ye'\n",
            "'ah, my way\\nyeah, come on and come on, come and make'\n",
            "' my day\\nmake my day\\ngot some hell to pay, i steal y'\n",
            "'our thunder\\nthe joy of violent movement, pulls you '\n"
          ],
          "name": "stdout"
        }
      ]
    },
    {
      "cell_type": "code",
      "metadata": {
        "id": "3AWb_zKqoH7o",
        "colab_type": "code",
        "colab": {}
      },
      "source": [
        "def split_input_target(data):\n",
        "  input_data = data[:-1]\n",
        "  target = data[1:]\n",
        "  return input_data, target"
      ],
      "execution_count": 0,
      "outputs": []
    },
    {
      "cell_type": "code",
      "metadata": {
        "id": "Mu3Dkhr-ohrP",
        "colab_type": "code",
        "colab": {}
      },
      "source": [
        "dataset = sequences.map(split_input_target)"
      ],
      "execution_count": 0,
      "outputs": []
    },
    {
      "cell_type": "code",
      "metadata": {
        "id": "-wUqdR-itGNp",
        "colab_type": "code",
        "colab": {
          "base_uri": "https://localhost:8080/",
          "height": 51
        },
        "outputId": "5fbc8307-f5f9-4a89-e2ae-1657f6e91e1e"
      },
      "source": [
        "for input, target in dataset.take(1):\n",
        "  print(repr(\"\".join([index_to_char[index] for index in input])))\n",
        "  print(repr(\"\".join([index_to_char[index] for index in target])))"
      ],
      "execution_count": 58,
      "outputs": [
        {
          "output_type": "stream",
          "text": [
            "\"\\ni'm gonna make you, shake you, take you\\ni'm gonna\"\n",
            "\"i'm gonna make you, shake you, take you\\ni'm gonna \"\n"
          ],
          "name": "stdout"
        }
      ]
    },
    {
      "cell_type": "markdown",
      "metadata": {
        "id": "jhWby_xYt7_M",
        "colab_type": "text"
      },
      "source": [
        "#### Create training batches"
      ]
    },
    {
      "cell_type": "code",
      "metadata": {
        "id": "V28-OkikuY0W",
        "colab_type": "code",
        "colab": {}
      },
      "source": [
        "BUFFER_SIZE = 10000\n",
        "BATCH_SIZE = 64"
      ],
      "execution_count": 0,
      "outputs": []
    },
    {
      "cell_type": "code",
      "metadata": {
        "id": "6uCuh9VTtf2z",
        "colab_type": "code",
        "colab": {}
      },
      "source": [
        "dataset = dataset.shuffle(BUFFER_SIZE).batch(BATCH_SIZE, drop_remainder=True)"
      ],
      "execution_count": 0,
      "outputs": []
    },
    {
      "cell_type": "code",
      "metadata": {
        "id": "f9Is-D05vA45",
        "colab_type": "code",
        "colab": {
          "base_uri": "https://localhost:8080/",
          "height": 34
        },
        "outputId": "61ba4968-1bd8-46a9-a4f7-62293a75c918"
      },
      "source": [
        "dataset"
      ],
      "execution_count": 66,
      "outputs": [
        {
          "output_type": "execute_result",
          "data": {
            "text/plain": [
              "<BatchDataset shapes: ((64, 50), (64, 50)), types: (tf.int64, tf.int64)>"
            ]
          },
          "metadata": {
            "tags": []
          },
          "execution_count": 66
        }
      ]
    },
    {
      "cell_type": "markdown",
      "metadata": {
        "id": "JORjC1E1vTZ5",
        "colab_type": "text"
      },
      "source": [
        "#### Build the model"
      ]
    },
    {
      "cell_type": "code",
      "metadata": {
        "id": "GvTacs9mvIGK",
        "colab_type": "code",
        "colab": {}
      },
      "source": [
        "# Length of the vocabulary in chars\n",
        "vocab_size = len(vocab)\n",
        "\n",
        "# The embedding dimension\n",
        "embedding_dim = 256\n",
        "\n",
        "# Number of RNN units\n",
        "rnn_units = 1024"
      ],
      "execution_count": 0,
      "outputs": []
    },
    {
      "cell_type": "code",
      "metadata": {
        "id": "Tg2uBJl3ve8f",
        "colab_type": "code",
        "colab": {}
      },
      "source": [
        "def build_model(vocab_size, embedding_dim, rnn_units, batch_size):\n",
        "  model = tf.keras.Sequential([\n",
        "    tf.keras.layers.Embedding(vocab_size, embedding_dim,\n",
        "                              batch_input_shape=[batch_size, None]),\n",
        "    tf.keras.layers.GRU(rnn_units,\n",
        "                        return_sequences=True,\n",
        "                        stateful=True,\n",
        "                        recurrent_initializer='glorot_uniform'),\n",
        "    tf.keras.layers.Dense(vocab_size)\n",
        "  ])\n",
        "  return model\n",
        "\n",
        "def loss(labels, logits):\n",
        "  return tf.keras.losses.sparse_categorical_crossentropy(labels, logits, from_logits=True)"
      ],
      "execution_count": 0,
      "outputs": []
    },
    {
      "cell_type": "code",
      "metadata": {
        "id": "Qy67-bWIviP-",
        "colab_type": "code",
        "colab": {}
      },
      "source": [
        "model = build_model(vocab_size=len(vocab),\n",
        "                    embedding_dim = embedding_dim,\n",
        "                    rnn_units = rnn_units,\n",
        "                    batch_size = BATCH_SIZE\n",
        "\n",
        "                    )"
      ],
      "execution_count": 0,
      "outputs": []
    },
    {
      "cell_type": "code",
      "metadata": {
        "id": "zgtRTZdLwmmF",
        "colab_type": "code",
        "colab": {}
      },
      "source": [
        "model.compile(optimizer='adam', loss=loss)"
      ],
      "execution_count": 0,
      "outputs": []
    },
    {
      "cell_type": "code",
      "metadata": {
        "id": "qtAv3aUSw92K",
        "colab_type": "code",
        "colab": {
          "base_uri": "https://localhost:8080/",
          "height": 255
        },
        "outputId": "005e0c19-cdb1-4d24-a0fe-ff36a83e2f69"
      },
      "source": [
        "model.summary()"
      ],
      "execution_count": 147,
      "outputs": [
        {
          "output_type": "stream",
          "text": [
            "Model: \"sequential_8\"\n",
            "_________________________________________________________________\n",
            "Layer (type)                 Output Shape              Param #   \n",
            "=================================================================\n",
            "embedding_8 (Embedding)      (64, None, 256)           13824     \n",
            "_________________________________________________________________\n",
            "gru_8 (GRU)                  (64, None, 1024)          3938304   \n",
            "_________________________________________________________________\n",
            "dense_8 (Dense)              (64, None, 54)            55350     \n",
            "=================================================================\n",
            "Total params: 4,007,478\n",
            "Trainable params: 4,007,478\n",
            "Non-trainable params: 0\n",
            "_________________________________________________________________\n"
          ],
          "name": "stdout"
        }
      ]
    },
    {
      "cell_type": "code",
      "metadata": {
        "id": "EySjqw6Yw_Ti",
        "colab_type": "code",
        "colab": {}
      },
      "source": [
        "checkpoint_prefix = os.path.join(check_point_dir, \"ckpt_{epoch}\")\n",
        "\n",
        "checkpoint_callback=tf.keras.callbacks.ModelCheckpoint(\n",
        "    filepath=checkpoint_prefix,\n",
        "    save_weights_only=True)"
      ],
      "execution_count": 0,
      "outputs": []
    },
    {
      "cell_type": "markdown",
      "metadata": {
        "id": "bff4HSyyyE5f",
        "colab_type": "text"
      },
      "source": [
        "#### Train the model"
      ]
    },
    {
      "cell_type": "code",
      "metadata": {
        "id": "5nspBi9Cx3Os",
        "colab_type": "code",
        "colab": {}
      },
      "source": [
        "EPOCHS = 20"
      ],
      "execution_count": 0,
      "outputs": []
    },
    {
      "cell_type": "code",
      "metadata": {
        "id": "JL7-5z8ZyMEL",
        "colab_type": "code",
        "colab": {
          "base_uri": "https://localhost:8080/",
          "height": 697
        },
        "outputId": "322bac20-96d9-4a56-e820-b30462155fe6"
      },
      "source": [
        "history = model.fit(dataset, epochs=EPOCHS, callbacks=[checkpoint_callback])"
      ],
      "execution_count": 160,
      "outputs": [
        {
          "output_type": "stream",
          "text": [
            "Epoch 1/20\n",
            "65/65 [==============================] - 2s 26ms/step - loss: 0.8857\n",
            "Epoch 2/20\n",
            "65/65 [==============================] - 2s 25ms/step - loss: 0.8120\n",
            "Epoch 3/20\n",
            "65/65 [==============================] - 2s 33ms/step - loss: 0.7403\n",
            "Epoch 4/20\n",
            "65/65 [==============================] - 2s 25ms/step - loss: 0.6816\n",
            "Epoch 5/20\n",
            "65/65 [==============================] - 2s 27ms/step - loss: 0.6259\n",
            "Epoch 6/20\n",
            "65/65 [==============================] - 2s 25ms/step - loss: 0.5802\n",
            "Epoch 7/20\n",
            "65/65 [==============================] - 2s 32ms/step - loss: 0.5449\n",
            "Epoch 8/20\n",
            "65/65 [==============================] - 2s 26ms/step - loss: 0.5121\n",
            "Epoch 9/20\n",
            "65/65 [==============================] - 2s 28ms/step - loss: 0.4879\n",
            "Epoch 10/20\n",
            "65/65 [==============================] - 2s 34ms/step - loss: 0.4682\n",
            "Epoch 11/20\n",
            "65/65 [==============================] - 2s 25ms/step - loss: 0.4512\n",
            "Epoch 12/20\n",
            "65/65 [==============================] - 2s 28ms/step - loss: 0.4355\n",
            "Epoch 13/20\n",
            "65/65 [==============================] - 2s 26ms/step - loss: 0.4241\n",
            "Epoch 14/20\n",
            "65/65 [==============================] - 2s 26ms/step - loss: 0.4117\n",
            "Epoch 15/20\n",
            "65/65 [==============================] - 2s 34ms/step - loss: 0.4021\n",
            "Epoch 16/20\n",
            "65/65 [==============================] - 2s 25ms/step - loss: 0.3941\n",
            "Epoch 17/20\n",
            "65/65 [==============================] - 2s 27ms/step - loss: 0.3892\n",
            "Epoch 18/20\n",
            "65/65 [==============================] - 2s 25ms/step - loss: 0.3800\n",
            "Epoch 19/20\n",
            "65/65 [==============================] - 2s 26ms/step - loss: 0.3755\n",
            "Epoch 20/20\n",
            "65/65 [==============================] - 2s 25ms/step - loss: 0.3691\n"
          ],
          "name": "stdout"
        }
      ]
    },
    {
      "cell_type": "markdown",
      "metadata": {
        "id": "ZPyNUmkPzWUO",
        "colab_type": "text"
      },
      "source": [
        "#### Load model and predict"
      ]
    },
    {
      "cell_type": "code",
      "metadata": {
        "id": "8X2oHj3yzKFG",
        "colab_type": "code",
        "colab": {}
      },
      "source": [
        "model_load = build_model(vocab_size, embedding_dim, rnn_units, batch_size=1)\n",
        "\n",
        "model_load.load_weights(tf.train.latest_checkpoint(check_point_dir))\n",
        "model_load.build(tf.TensorShape([1, None]))"
      ],
      "execution_count": 0,
      "outputs": []
    },
    {
      "cell_type": "code",
      "metadata": {
        "id": "TvecK4_zzfRD",
        "colab_type": "code",
        "colab": {
          "base_uri": "https://localhost:8080/",
          "height": 255
        },
        "outputId": "6e0c9248-6b03-4f61-f319-62a155bf842c"
      },
      "source": [
        "model_load.summary()"
      ],
      "execution_count": 162,
      "outputs": [
        {
          "output_type": "stream",
          "text": [
            "Model: \"sequential_11\"\n",
            "_________________________________________________________________\n",
            "Layer (type)                 Output Shape              Param #   \n",
            "=================================================================\n",
            "embedding_11 (Embedding)     (1, None, 256)            13824     \n",
            "_________________________________________________________________\n",
            "gru_11 (GRU)                 (1, None, 1024)           3938304   \n",
            "_________________________________________________________________\n",
            "dense_11 (Dense)             (1, None, 54)             55350     \n",
            "=================================================================\n",
            "Total params: 4,007,478\n",
            "Trainable params: 4,007,478\n",
            "Non-trainable params: 0\n",
            "_________________________________________________________________\n"
          ],
          "name": "stdout"
        }
      ]
    },
    {
      "cell_type": "code",
      "metadata": {
        "id": "ieEAl1oSzfux",
        "colab_type": "code",
        "colab": {}
      },
      "source": [
        "def generate_text(model, start_string):\n",
        "  # Evaluation step (generating text using the learned model)\n",
        "\n",
        "  # Number of characters to generate\n",
        "  num_generate = 250\n",
        "\n",
        "  # Converting our start string to numbers (vectorizing)\n",
        "  input_eval = [char_to_index[s] for s in start_string]\n",
        "  input_eval = tf.expand_dims(input_eval, 0)\n",
        "  #print(input_eval)\n",
        "\n",
        "  # Empty string to store our results\n",
        "  text_generated = []\n",
        "\n",
        "  # Low temperatures results in more predictable text.\n",
        "  # Higher temperatures results in more surprising text.\n",
        "  # Experiment to find the best setting.\n",
        "  temperature = 1\n",
        "\n",
        "  # Here batch size == 1\n",
        "  model.reset_states()\n",
        "  for i in range(num_generate):\n",
        "      predictions = model(input_eval)\n",
        "      # remove the batch dimension\n",
        "      predictions = tf.squeeze(predictions, 0)\n",
        "\n",
        "      # using a categorical distribution to predict the character returned by the model\n",
        "      predictions = predictions / temperature\n",
        "      predicted_id = tf.random.categorical(predictions, num_samples=1)[-1,0].numpy()\n",
        "\n",
        "      # We pass the predicted character as the next input to the model\n",
        "      # along with the previous hidden state\n",
        "      input_eval = tf.expand_dims([predicted_id], 0)\n",
        "\n",
        "      text_generated.append(index_to_char[predicted_id])\n",
        "\n",
        "  return (start_string + ''.join(text_generated))"
      ],
      "execution_count": 0,
      "outputs": []
    },
    {
      "cell_type": "code",
      "metadata": {
        "id": "bRz7QnoG08Fs",
        "colab_type": "code",
        "colab": {
          "base_uri": "https://localhost:8080/",
          "height": 204
        },
        "outputId": "646caf6c-d1ee-48fb-aacd-6652dd6901b5"
      },
      "source": [
        "print(generate_text(model_load, start_string=u\"isolation\"))"
      ],
      "execution_count": 177,
      "outputs": [
        {
          "output_type": "stream",
          "text": [
            "isolation...mutilation...planet die\n",
            "deprive\n",
            "to feel so alive\n",
            "no time for comas turn to stone\n",
            "marrel to your life?\n",
            "stone dead forever\n",
            "reaching out our brothers\n",
            "weeri've witnessed your suffering\n",
            "as the battlers of grawe\n",
            "it queen\n",
            "splease one's anbullets in the m\n"
          ],
          "name": "stdout"
        }
      ]
    },
    {
      "cell_type": "code",
      "metadata": {
        "id": "QvDXo9hV5h74",
        "colab_type": "code",
        "colab": {}
      },
      "source": [
        ""
      ],
      "execution_count": 0,
      "outputs": []
    }
  ]
}